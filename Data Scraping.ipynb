{
 "cells": [
  {
   "cell_type": "markdown",
   "metadata": {
    "collapsed": false
   },
   "source": [
    "# Data Scraping\n",
    "### By: Adam Aharony, adam.aharony@gmail.com, 214435448."
   ]
  },
  {
   "cell_type": "code",
   "execution_count": null,
   "metadata": {
    "collapsed": false,
    "pycharm": {
     "name": "#%%\n"
    }
   },
   "outputs": [],
   "source": [
    "from selenium import webdriver\n",
    "from selenium.webdriver.support.ui import Select\n",
    "from selenium.webdriver.common.by import By\n",
    "from time import sleep\n",
    "import pandas as pd\n",
    "import random\n",
    "\n",
    "\n",
    "def wait():\n",
    "    r = random.uniform(3, 10)\n",
    "    sleep(r)\n"
   ]
  },
  {
   "cell_type": "code",
   "execution_count": null,
   "metadata": {
    "collapsed": false,
    "pycharm": {
     "name": "#%%\n"
    }
   },
   "outputs": [],
   "source": [
    "option = webdriver.ChromeOptions()\n",
    "\n",
    "option.add_argument(\"user-agent=Mozilla/5.0 (Windows NT 10.0; Win64; x64) AppleWebKit/537.36 (KHTML, like Gecko) Chrome/74.0.3729.169 Safari/537.36\")\n",
    "# option.add_argument(\"--profile-directory=Default\")\n",
    "# option.add_argument(\"--user-data-dir=C:/Users/adama/AppData/Local/Google/Chrome/User Data\")\n",
    "option.add_argument('--disable-blink-features=AutomationControlled')\n",
    "option.add_experimental_option(\"useAutomationExtension\", False)\n",
    "option.add_experimental_option(\"excludeSwitches\", [\"enable-automation\"])\n",
    "\n",
    "# Open Browser\n",
    "driver = webdriver.Chrome(executable_path='chromedriver.exe', options=option)\n",
    "driver.execute_script(\n",
    "    \"Object.defineProperty(navigator, 'webdriver', {get: () => undefined})\")\n",
    "\n",
    "site = \"https://www.techpowerup.com/gpu-specs/?mfgr={manufacturer}\"\n",
    "manufacturers = (\"3dfx\", \"AMD\", \"ATI\", \"Intel\",\n",
    "                 \"Matrox\", \"NVIDIA\", \"Sony\", \"XGI\")\n"
   ]
  },
  {
   "cell_type": "code",
   "execution_count": null,
   "metadata": {
    "collapsed": false,
    "pycharm": {
     "name": "#%%\n"
    }
   },
   "outputs": [],
   "source": [
    "ROWS = []\n"
   ]
  },
  {
   "cell_type": "code",
   "execution_count": null,
   "metadata": {
    "collapsed": false,
    "pycharm": {
     "name": "#%%\n"
    }
   },
   "outputs": [],
   "source": [
    "# for manufacturer in manufacturers:\n",
    "manufacturer = manufacturers[7]\n",
    "driver.get(site.format(manufacturer=manufacturer))\n",
    "# Getting released years\n",
    "years_select = Select(driver.find_element(By.ID, \"released\"))\n",
    "years = [year.text for year in years_select.options][1:]\n",
    "years = [y[:y.index(\" \")] for y in years]\n",
    "wait()\n",
    "for year in years:\n",
    "    driver.get(site.format(manufacturer=manufacturer) + f\"&released={year}\")\n",
    "    elems = driver.find_elements(By.CLASS_NAME, f\"vendor-{manufacturer}\")\n",
    "    names = [e.find_element(By.TAG_NAME, \"a\").text for e in elems]\n",
    "    links = [e.find_element(By.TAG_NAME, \"a\") for e in elems]\n",
    "    addresses = [link.get_attribute(\"href\") for link in links]\n",
    "    for name, address in zip(names, addresses):\n",
    "        row = {\"Name\": name, \"Link\": address, \"Year\": year}\n",
    "        ROWS.append(row)\n",
    "\n",
    "    wait()\n"
   ]
  },
  {
   "cell_type": "code",
   "execution_count": null,
   "metadata": {
    "collapsed": false,
    "pycharm": {
     "name": "#%%\n"
    }
   },
   "outputs": [],
   "source": [
    "df = pd.DataFrame(ROWS)\n",
    "df\n"
   ]
  },
  {
   "cell_type": "code",
   "execution_count": null,
   "metadata": {
    "collapsed": false,
    "pycharm": {
     "name": "#%%\n"
    }
   },
   "outputs": [],
   "source": [
    "df.to_csv(f\"{manufacturer}.csv\")\n"
   ]
  },
  {
   "cell_type": "code",
   "execution_count": null,
   "metadata": {
    "collapsed": false,
    "pycharm": {
     "name": "#%%\n"
    }
   },
   "outputs": [],
   "source": [
    "manufacturer = manufacturers[7]\n"
   ]
  },
  {
   "cell_type": "code",
   "execution_count": null,
   "metadata": {
    "collapsed": false,
    "pycharm": {
     "name": "#%%\n"
    }
   },
   "outputs": [],
   "source": [
    "ROWS = []\n"
   ]
  },
  {
   "cell_type": "code",
   "execution_count": null,
   "metadata": {
    "collapsed": false,
    "pycharm": {
     "name": "#%%\n"
    }
   },
   "outputs": [],
   "source": [
    "df = pd.read_csv(f\"manufacturers/{manufacturer}.csv\")\n",
    "# df = df.drop(columns=[\"Unnamed: 0\"])\n",
    "for i, row in df.iterrows():\n",
    "    ROWS.append(dict(row))\n",
    "ROWS\n"
   ]
  },
  {
   "cell_type": "code",
   "execution_count": null,
   "metadata": {
    "collapsed": false,
    "pycharm": {
     "name": "#%%\n"
    }
   },
   "outputs": [],
   "source": [
    "for i, row in enumerate(ROWS):\n",
    "    if list(row.keys()) == [\"Name\", \"Link\", \"Year\"]:\n",
    "        driver.get(row[\"Link\"])\n",
    "        wait()\n",
    "        celems = driver.find_elements(By.CLASS_NAME, \"gpudb-specs-large__title\")\n",
    "        relems = driver.find_elements(By.CLASS_NAME, \"gpudb-specs-large__value\")\n",
    "        ROWS[i].update({c.text: r.text for c, r in zip(celems, relems)})\n",
    "        clearfix = driver.find_elements(By.CLASS_NAME, \"clearfix\")\n",
    "        for c in clearfix:\n",
    "            celems = c.find_elements(By.TAG_NAME, \"dt\")\n",
    "            relems = c.find_elements(By.TAG_NAME, \"dd\")\n",
    "            ROWS[i].update({c.text: r.text for c, r in zip(celems, relems)})\n",
    "        wait()\n"
   ]
  },
  {
   "cell_type": "code",
   "execution_count": null,
   "metadata": {
    "collapsed": false,
    "pycharm": {
     "name": "#%%\n"
    }
   },
   "outputs": [],
   "source": [
    "df = pd.DataFrame(ROWS)\n",
    "df\n"
   ]
  },
  {
   "cell_type": "code",
   "execution_count": null,
   "metadata": {
    "collapsed": false,
    "pycharm": {
     "name": "#%%\n"
    }
   },
   "outputs": [],
   "source": [
    "ROWS[-1]\n"
   ]
  },
  {
   "cell_type": "code",
   "execution_count": null,
   "metadata": {
    "collapsed": false,
    "pycharm": {
     "name": "#%%\n"
    }
   },
   "outputs": [],
   "source": [
    "# save list:\n",
    "import pickle\n",
    "with open(\"ROWS.pickle\", \"wb\") as f:\n",
    "    pickle.dump(ROWS, f)\n"
   ]
  },
  {
   "cell_type": "code",
   "execution_count": null,
   "metadata": {
    "collapsed": false,
    "pycharm": {
     "name": "#%%\n"
    }
   },
   "outputs": [],
   "source": [
    "# read list:\n",
    "import pickle\n",
    "with open(\"ROWS.pickle\", \"rb\") as f:\n",
    "    ROWS = pickle.load(f)\n"
   ]
  },
  {
   "cell_type": "code",
   "execution_count": null,
   "metadata": {
    "collapsed": false,
    "pycharm": {
     "name": "#%%\n"
    }
   },
   "outputs": [],
   "source": [
    "df.to_csv(f\"manufacturers/{manufacturer}.csv\", index=False)\n"
   ]
  },
  {
   "cell_type": "code",
   "execution_count": null,
   "metadata": {
    "collapsed": false,
    "pycharm": {
     "name": "#%%\n"
    }
   },
   "outputs": [],
   "source": [
    "df.drop(columns=[\"Unnamed: 0\"], inplace=True)\n"
   ]
  }
 ],
 "metadata": {
  "datalore": {
   "base_environment": "default",
   "computation_mode": "JUPYTER",
   "package_manager": "pip",
   "packages": [],
   "version": 1
  },
  "interpreter": {
   "hash": "1aa00f74d9f3244d5ea6066e0d5f9478d4dc44bb046a1267f7746267cfc479fb"
  },
  "kernelspec": {
   "display_name": "Python 3.8.5 ('base')",
   "language": "python",
   "name": "python3"
  },
  "language_info": {
   "codemirror_mode": {
    "name": "ipython",
    "version": 3
   },
   "file_extension": ".py",
   "mimetype": "text/x-python",
   "name": "python",
   "nbconvert_exporter": "python",
   "pygments_lexer": "ipython3",
   "version": "3.8.5"
  }
 },
 "nbformat": 4,
 "nbformat_minor": 4
}
