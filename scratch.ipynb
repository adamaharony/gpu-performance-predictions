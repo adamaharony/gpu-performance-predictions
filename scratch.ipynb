{
 "cells": [
  {
   "cell_type": "markdown",
   "metadata": {},
   "source": [
    "Convert csv to xlsx"
   ]
  },
  {
   "cell_type": "code",
   "execution_count": 3,
   "metadata": {},
   "outputs": [],
   "source": [
    "import pandas as pd\n",
    "\n",
    "f = \"raw_data.csv\"\n",
    "df = pd.read_csv(f)\n",
    "df.to_excel(\"raw_data.xlsx\")"
   ]
  }
 ],
 "metadata": {
  "interpreter": {
   "hash": "1aa00f74d9f3244d5ea6066e0d5f9478d4dc44bb046a1267f7746267cfc479fb"
  },
  "kernelspec": {
   "display_name": "Python 3.8.5 ('base')",
   "language": "python",
   "name": "python3"
  },
  "language_info": {
   "codemirror_mode": {
    "name": "ipython",
    "version": 3
   },
   "file_extension": ".py",
   "mimetype": "text/x-python",
   "name": "python",
   "nbconvert_exporter": "python",
   "pygments_lexer": "ipython3",
   "version": "3.8.5"
  },
  "orig_nbformat": 4
 },
 "nbformat": 4,
 "nbformat_minor": 2
}
