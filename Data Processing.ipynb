{
 "cells": [
  {
   "cell_type": "markdown",
   "metadata": {
    "collapsed": false
   },
   "source": [
    "# Data Processing\n",
    "### By: Adam Aharony, adam.aharony@gmail.com, 214435448."
   ]
  },
  {
   "cell_type": "code",
   "execution_count": null,
   "metadata": {
    "collapsed": false,
    "pycharm": {
     "name": "#%%\n"
    }
   },
   "outputs": [],
   "source": [
    "import pandas as pd\n",
    "import numpy as np\n",
    "import seaborn as sns"
   ]
  },
  {
   "cell_type": "markdown",
   "metadata": {
    "collapsed": false
   },
   "source": [
    "Merging all manufacturers to one DataFrame"
   ]
  },
  {
   "cell_type": "code",
   "execution_count": null,
   "metadata": {
    "collapsed": false,
    "pycharm": {
     "name": "#%%\n"
    }
   },
   "outputs": [],
   "source": [
    "folder = \"manufacturers\"\n",
    "manufacturers = (\"3dfx\", \"AMD\", \"ATI\", \"Intel\", \"Matrox\", \"NVIDIA\", \"Sony\", \"XGI\")\n",
    "\n",
    "ROWS = []\n",
    "\n",
    "for manufacturer in manufacturers:\n",
    "    df = pd.read_csv(f\"{folder}/{manufacturer}.csv\")\n",
    "\n",
    "    for _, row in df.iterrows():\n",
    "        row = dict(row)\n",
    "        row.update({\"Manufacturer\": manufacturer})\n",
    "        ROWS.append(row)\n",
    "\n",
    "\n",
    "df = pd.DataFrame(ROWS)"
   ]
  },
  {
   "cell_type": "markdown",
   "metadata": {
    "collapsed": false
   },
   "source": [
    "Dropping duplicate columns"
   ]
  },
  {
   "cell_type": "code",
   "execution_count": null,
   "metadata": {
    "collapsed": false,
    "pycharm": {
     "name": "#%%\n"
    }
   },
   "outputs": [],
   "source": [
    "df.columns"
   ]
  },
  {
   "cell_type": "code",
   "execution_count": null,
   "metadata": {
    "collapsed": false,
    "pycharm": {
     "name": "#%%\n"
    }
   },
   "outputs": [],
   "source": [
    "cols = ['GRAPHICS PROCESSOR', 'PIXEL SHADERS', 'VERTEX SHADERS',\n",
    "        'TMUS', 'ROPS', 'MEMORY SIZE', 'MEMORY TYPE', 'BUS WIDTH', 'Current Price']\n",
    "df.drop(columns=cols, inplace=True)"
   ]
  },
  {
   "cell_type": "code",
   "execution_count": null,
   "metadata": {
    "collapsed": false,
    "pycharm": {
     "name": "#%%\n"
    }
   },
   "outputs": [],
   "source": [
    "df.to_csv(\"raw_data.csv\", index=False)"
   ]
  },
  {
   "cell_type": "code",
   "execution_count": null,
   "metadata": {
    "collapsed": false,
    "pycharm": {
     "name": "#%%\n"
    }
   },
   "outputs": [],
   "source": [
    "df = pd.read_csv(\"raw_data.csv\")"
   ]
  },
  {
   "cell_type": "markdown",
   "metadata": {
    "collapsed": false
   },
   "source": [
    "### Data Exploration:"
   ]
  },
  {
   "cell_type": "code",
   "execution_count": null,
   "metadata": {
    "collapsed": false,
    "pycharm": {
     "name": "#%%\n"
    }
   },
   "outputs": [],
   "source": [
    "df.columns, df.columns.shape"
   ]
  },
  {
   "cell_type": "code",
   "execution_count": null,
   "metadata": {
    "collapsed": false,
    "pycharm": {
     "name": "#%%\n"
    }
   },
   "outputs": [],
   "source": [
    "df.describe()"
   ]
  },
  {
   "cell_type": "code",
   "execution_count": null,
   "metadata": {
    "collapsed": false,
    "pycharm": {
     "name": "#%%\n"
    }
   },
   "outputs": [],
   "source": [
    "df"
   ]
  },
  {
   "cell_type": "markdown",
   "metadata": {
    "collapsed": false
   },
   "source": [
    "### Data Manipulation:"
   ]
  },
  {
   "cell_type": "markdown",
   "metadata": {
    "collapsed": false
   },
   "source": [
    "Removing columns with more than 60% null values"
   ]
  },
  {
   "cell_type": "code",
   "execution_count": null,
   "metadata": {
    "collapsed": false,
    "pycharm": {
     "name": "#%%\n"
    }
   },
   "outputs": [],
   "source": [
    "N = len(df)\n",
    "notnull = df.notnull().sum()\n",
    "\n",
    "ratio = 0.6\n",
    "cols = notnull[notnull > ratio * N]\n",
    "df[cols.index].to_csv(\"processing/clean_cols.csv\", index=False)"
   ]
  },
  {
   "cell_type": "markdown",
   "metadata": {
    "collapsed": false
   },
   "source": [
    "Removing unnecessary columns for regression"
   ]
  },
  {
   "cell_type": "code",
   "execution_count": null,
   "metadata": {
    "collapsed": false,
    "pycharm": {
     "name": "#%%\n"
    }
   },
   "outputs": [],
   "source": [
    "df = pd.read_csv(\"processing/clean_cols.csv\")"
   ]
  },
  {
   "cell_type": "code",
   "execution_count": null,
   "metadata": {
    "collapsed": false,
    "pycharm": {
     "name": "#%%\n"
    }
   },
   "outputs": [],
   "source": [
    "unnecessary = [\"Name\", \"Link\", \"GPU Name\", \"Release Date\", \"Architecture\",\n",
    "               \"Generation\", \"Predecessor\", \"Bus Interface\", \"GPU Variant\"]\n",
    "df.drop(columns=unnecessary, inplace=True)\n",
    "df[df.isnull().sum(axis=1) < len(df.columns)/2]\n",
    "df.to_csv(\"processing/clean_cols.csv\", index=False)"
   ]
  },
  {
   "cell_type": "code",
   "execution_count": null,
   "metadata": {
    "collapsed": false,
    "pycharm": {
     "name": "#%%\n"
    }
   },
   "outputs": [],
   "source": [
    "df.columns"
   ]
  },
  {
   "cell_type": "markdown",
   "metadata": {
    "collapsed": false
   },
   "source": [
    "Converting data with units to simple numbers"
   ]
  },
  {
   "cell_type": "code",
   "execution_count": null,
   "metadata": {
    "collapsed": false,
    "pycharm": {
     "name": "#%%\n"
    }
   },
   "outputs": [],
   "source": [
    "cols = (\"Process Size\", \"Transistors\", \"Die Size\", \"GPU Clock\", \"Memory Clock\",\n",
    "        \"Memory Size\", \"Memory Bus\", \"Bandwidth\", \"Pixel Rate\", \"Texture Rate\",\n",
    "        \"TDP\", \"FP32 (float) performance\")\n",
    "special_cols = (\"Length\", \"Width\", \"Height\", \"Weight\", \"Reviews\")\n",
    "\n",
    "for col in cols:\n",
    "    print(col, df[col].unique())\n",
    "    print(\"\\n\\n\")"
   ]
  },
  {
   "cell_type": "code",
   "execution_count": null,
   "metadata": {
    "collapsed": false,
    "pycharm": {
     "name": "#%%\n"
    }
   },
   "outputs": [],
   "source": [
    "df = pd.read_csv(\"processing/clean_cols.csv\")"
   ]
  },
  {
   "cell_type": "code",
   "execution_count": null,
   "metadata": {
    "collapsed": false,
    "pycharm": {
     "name": "#%%\n"
    }
   },
   "outputs": [],
   "source": [
    "cols = (\"Process Size\", \"Transistors\", \"Die Size\", \"GPU Clock\", \"TDP\")\n",
    "units = (\"nm\", \"million\", \"mm²\", \"MHz\", \"W\")\n",
    "mixed_cols = (\"Bandwidth\", \"Pixel Rate\", \"Texture Rate\", \"FP32 (float) performance\",\n",
    "              \"Memory Size\", \"Memory Bus\")\n",
    "# Special: Memory Clock,\n",
    "\n",
    "\n",
    "def memory_clock_unit_remap(x):\n",
    "    try:\n",
    "        if pd.isna(x) or x == \"unknown\":\n",
    "            return np.nan\n",
    "        elif x == \"System Shared\":\n",
    "            return 0\n",
    "        space = x.index(\" \")\n",
    "        return np.float32(x[:space])\n",
    "    except Exception as e:\n",
    "        print(e, x)\n",
    "\n",
    "\n",
    "df[\"Memory Clock\"] = df[\"Memory Clock\"].map(memory_clock_unit_remap)\n",
    "df.rename(columns={\"Memory Clock\": \"Memory Clock [MHz]\"}, inplace=True)\n",
    "\n",
    "\n",
    "def memory_size_unit_remap(x):\n",
    "    try:\n",
    "        if pd.isna(x) or x == \"unknown\":\n",
    "            return np.nan\n",
    "        elif x == \"System Shared\":\n",
    "            return 0\n",
    "        space = x.index(\" \")\n",
    "        unit = x[space+1:]\n",
    "        if unit == \"MB\":\n",
    "            return np.float32(x[:space]) * 0.001\n",
    "        elif unit == \"GB\":\n",
    "            return np.float32(x[:space])\n",
    "        elif unit == \"KB\":\n",
    "            return np.float32(x[:space]) * 1e-6\n",
    "    except Exception as e:\n",
    "        print(e, x)\n",
    "\n",
    "\n",
    "df[\"Memory Size\"] = df[\"Memory Size\"].map(memory_size_unit_remap)\n",
    "df.rename(columns={\"Memory Size\": \"Memory Size [GB]\"}, inplace=True)\n",
    "\n",
    "\n",
    "def bandwidth_unit_remap(x):\n",
    "    try:\n",
    "        if pd.isna(x) or x == \"unknown\":\n",
    "            return np.nan\n",
    "        elif x == \"System Shared\" or x == \"System Dependent\":\n",
    "            return 0\n",
    "        x = x.replace(\",\", \"\")\n",
    "        space = x.index(\" \")\n",
    "        unit = x[space+1:]\n",
    "        if unit == \"MB/s\":\n",
    "            return np.float32(x[:space]) * 0.001\n",
    "        elif unit == \"GB/s\":\n",
    "            return np.float32(x[:space])\n",
    "        elif unit == \"KB/s\":\n",
    "            return np.float32(x[:space]) * 1e-6\n",
    "    except Exception as e:\n",
    "        print(e, x)\n",
    "\n",
    "\n",
    "df[\"Bandwidth\"] = df[\"Bandwidth\"].map(bandwidth_unit_remap)\n",
    "df.rename(columns={\"Bandwidth\": \"Bandwidth [GB/s]\"}, inplace=True)\n",
    "\n",
    "\n",
    "def pixel_rate_unit_remap(x):\n",
    "    try:\n",
    "        if pd.isna(x) or x == \"unknown\":\n",
    "            return np.nan\n",
    "        elif x == \"System Shared\" or x == \"System Dependent\":\n",
    "            return 0\n",
    "        x = x.replace(\",\", \"\")\n",
    "        space = x.index(\" \")\n",
    "        unit = x[space+1:]\n",
    "        if unit == \"MPixel/s\":\n",
    "            return np.float32(x[:space]) * 0.001\n",
    "        elif unit == \"GPixel/s\":\n",
    "            return np.float32(x[:space])\n",
    "        elif unit == \"KPixel/s\":\n",
    "            return np.float32(x[:space]) * 1e-6\n",
    "    except Exception as e:\n",
    "        print(e, x)\n",
    "\n",
    "\n",
    "df[\"Pixel Rate\"] = df[\"Pixel Rate\"].map(pixel_rate_unit_remap)\n",
    "df.rename(columns={\"Pixel Rate\": \"Pixel Rate [GPixel/s]\"}, inplace=True)\n",
    "\n",
    "\n",
    "def texture_rate_unit_remap(x):\n",
    "    try:\n",
    "        if pd.isna(x) or x == \"unknown\":\n",
    "            return np.nan\n",
    "        elif x == \"System Shared\" or x == \"System Dependent\":\n",
    "            return 0\n",
    "        x = x.replace(\",\", \"\")\n",
    "        space = x.index(\" \")\n",
    "        unit = x[space+1:]\n",
    "        if unit == \"MTexel/s\":\n",
    "            return np.float32(x[:space]) * 0.001\n",
    "        elif unit == \"GTexel/s\":\n",
    "            return np.float32(x[:space])\n",
    "        elif unit == \"KTexel/s\":\n",
    "            return np.float32(x[:space]) * 1e-6\n",
    "    except Exception as e:\n",
    "        print(e, x)\n",
    "\n",
    "\n",
    "df[\"Texture Rate\"] = df[\"Texture Rate\"].map(texture_rate_unit_remap)\n",
    "df.rename(columns={\"Texture Rate\": \"Texture Rate [GTexel/s]\"}, inplace=True)\n",
    "\n",
    "\n",
    "def opengl_remap(x):\n",
    "    try:\n",
    "        if pd.isna(x) or x == \"unknown\":\n",
    "            return np.nan\n",
    "        elif x == \"System Shared\" or x == \"System Dependent\":\n",
    "            return 0\n",
    "        elif x[:2] == \"ES\":\n",
    "            return np.float32(x[3:])\n",
    "        elif x == \"None\":\n",
    "            return 0\n",
    "        elif len(x) == 3 and \".\" in x:\n",
    "            return np.float32(x)\n",
    "        return np.float32(x[:x.index(\" \")])\n",
    "    except Exception as e:\n",
    "        print(e, x)\n",
    "        return np.float32(x)\n",
    "\n",
    "\n",
    "df[\"OpenGL\"] = df[\"OpenGL\"].map(opengl_remap)\n",
    "\n",
    "\n",
    "def directx_remap(x):\n",
    "    try:\n",
    "        if isinstance(x, float):\n",
    "            return x\n",
    "        if pd.isna(x) or x == \"unknown\":\n",
    "            return np.nan\n",
    "        elif x == \"System Shared\" or x == \"System Dependent\":\n",
    "            return 0\n",
    "        if \".\" in x:\n",
    "            thresh = x.index(\".\")\n",
    "            return np.float32(x[:thresh+2])\n",
    "        elif \" \" in x:\n",
    "            thresh = x.index(\" \")\n",
    "            return np.float32(x[:thresh])\n",
    "\n",
    "    except Exception as e:\n",
    "        print(e, x)\n",
    "\n",
    "\n",
    "df[\"DirectX\"] = df[\"DirectX\"].map(directx_remap)\n",
    "\n",
    "\n",
    "def cores_remap(x):\n",
    "    try:\n",
    "        if isinstance(x, float):\n",
    "            return x\n",
    "        if pd.isna(x) or x == \"unknown\":\n",
    "            return np.nan\n",
    "        elif x == \"System Shared\" or x == \"System Dependent\":\n",
    "            return 0\n",
    "        if \"x\" in x:\n",
    "            thresh = x.index(\" \")\n",
    "            return np.float32(x[:thresh]) * np.float32(x[thresh+2:])\n",
    "        return np.float32(x)\n",
    "\n",
    "    except Exception as e:\n",
    "        print(e, x)\n",
    "\n",
    "\n",
    "df[\"CORES\"] = df[\"CORES\"].map(cores_remap)\n",
    "df.rename(columns={\"CORES\": \"Cores\"}, inplace=True)\n",
    "\n",
    "\n",
    "def outputs_remap(x):\n",
    "    try:\n",
    "        if pd.isna(x) or x == \"unknown\":\n",
    "            return np.nan\n",
    "        elif x == \"No outputs\":\n",
    "            return 0\n",
    "        x = x.replace(\"\\n\", \" \")\n",
    "        arr = x.split(\" \")\n",
    "        arr = [i for i in arr if \"x\" in i]\n",
    "        arr = [i.replace(\"x\", \"\") for i in arr]\n",
    "        arr = [np.float32(i) for i in arr]\n",
    "        return np.sum(arr)\n",
    "    except Exception as e:\n",
    "        print(e, x)\n",
    "\n",
    "\n",
    "df[\"Outputs\"] = df[\"Outputs\"].map(outputs_remap)\n",
    "\n",
    "\n",
    "def power_connectors_remap(x):\n",
    "    try:\n",
    "        if pd.isna(x) or x == \"unknown\":\n",
    "            return np.nan\n",
    "        elif x == \"None\":\n",
    "            return 0\n",
    "        elif x == \"Floppy\":\n",
    "            return 1\n",
    "        x = x.replace(\" + \", \" \")\n",
    "        arr = x.split(\" \")\n",
    "        arr = [i for i in arr if \"x\" in i and len(i) == 2]\n",
    "        arr = [i.replace(\"x\", \"\") for i in arr]\n",
    "        arr = [np.float32(i) for i in arr]\n",
    "        return np.sum(arr)\n",
    "    except Exception as e:\n",
    "        print(e, x)\n",
    "\n",
    "\n",
    "df[\"Power Connectors\"] = df[\"Power Connectors\"].map(power_connectors_remap)\n",
    "\n",
    "\n",
    "def fp32_unit_remap(x):\n",
    "    try:\n",
    "        if pd.isna(x) or x == \"unknown\":\n",
    "            return np.nan\n",
    "        elif x == \"System Shared\" or x == \"System Dependent\":\n",
    "            return 0\n",
    "        x = x.replace(\",\", \"\")\n",
    "        space = x.index(\" \")\n",
    "        unit = x[space+1:]\n",
    "        if unit == \"GFLOPS\":\n",
    "            return np.float32(x[:space]) * 0.001\n",
    "        elif unit == \"TFLOPS\":\n",
    "            return np.float32(x[:space])\n",
    "    except Exception as e:\n",
    "        print(e, x)\n",
    "\n",
    "\n",
    "df[\"FP32 (float) performance\"] = df[\"FP32 (float) performance\"].map(\n",
    "    fp32_unit_remap)\n",
    "df.rename(columns={\n",
    "          \"FP32 (float) performance\": \"FP32 (float) performance [TFLOPS]\"\n",
    "          }, inplace=True)\n",
    "\n",
    "\n",
    "def memory_bus_unit_remap(x):\n",
    "    try:\n",
    "        if pd.isna(x) or x == \"unknown\":\n",
    "            return np.nan\n",
    "        elif x == \"System Shared\":\n",
    "            return 0\n",
    "        space = x.index(\" \")\n",
    "        unit = x[space+1:]\n",
    "        return np.float32(x[:space])\n",
    "    except Exception as e:\n",
    "        print(e, x)\n",
    "\n",
    "\n",
    "df[\"Memory Bus\"] = df[\"Memory Bus\"].map(memory_bus_unit_remap)\n",
    "df.rename(columns={\"Memory Bus\": \"Memory Bus [bit]\"}, inplace=True)\n",
    "\n",
    "\n",
    "def unit_remap(x):\n",
    "    try:\n",
    "        if pd.isna(x) or x == \"unknown\":\n",
    "            return np.nan\n",
    "        x = x.replace(\",\", \"\")\n",
    "        space = x.index(\" \")\n",
    "        unit = x[space+1:]\n",
    "        number = np.float32(x[:space])\n",
    "        return number\n",
    "    except Exception as e:\n",
    "        print(e, x)\n",
    "\n",
    "\n",
    "for i, (col, unit) in enumerate(zip(cols, units)):\n",
    "    df[col] = df[col].map(unit_remap)\n",
    "    df.rename(columns={col: f\"{col} [{unit}]\"}, inplace=True)\n"
   ]
  },
  {
   "cell_type": "markdown",
   "metadata": {
    "collapsed": false
   },
   "source": [
    "Converting categorical columns to numbers"
   ]
  },
  {
   "cell_type": "code",
   "execution_count": null,
   "metadata": {
    "collapsed": false,
    "pycharm": {
     "name": "#%%\n"
    }
   },
   "outputs": [],
   "source": [
    "categorical_cols = (\"Foundry\", \"Production\", \"Memory Type\", \"Slot Width\", \"Manufacturer\")"
   ]
  },
  {
   "cell_type": "code",
   "execution_count": null,
   "metadata": {
    "collapsed": false,
    "pycharm": {
     "name": "#%%\n"
    }
   },
   "outputs": [],
   "source": [
    "df.info()"
   ]
  },
  {
   "cell_type": "code",
   "execution_count": null,
   "metadata": {
    "collapsed": false,
    "pycharm": {
     "name": "#%%\n"
    }
   },
   "outputs": [],
   "source": [
    "df.to_csv(\"processing/units.csv\", index=False)"
   ]
  },
  {
   "cell_type": "code",
   "execution_count": null,
   "metadata": {
    "collapsed": false,
    "pycharm": {
     "name": "#%%\n"
    }
   },
   "outputs": [],
   "source": [
    "df = pd.read_csv(\"processing/units.csv\")"
   ]
  },
  {
   "cell_type": "code",
   "execution_count": null,
   "metadata": {
    "collapsed": false,
    "pycharm": {
     "name": "#%%\n"
    }
   },
   "outputs": [],
   "source": [
    "df"
   ]
  },
  {
   "cell_type": "markdown",
   "metadata": {
    "collapsed": false
   },
   "source": [
    "### Regarding Columns as Numeric:"
   ]
  },
  {
   "cell_type": "markdown",
   "metadata": {
    "collapsed": false
   },
   "source": [
    "Converting categorical columns to numeric values."
   ]
  },
  {
   "cell_type": "code",
   "execution_count": null,
   "metadata": {
    "collapsed": false,
    "pycharm": {
     "name": "#%%\n"
    }
   },
   "outputs": [],
   "source": [
    "categorical = (\"Foundry\", \"Production\", \"Memory Type\", \"Slot Width\", \"Manufacturer\")\n",
    "val_dict = dict()\n",
    "for col in categorical:\n",
    "    unique = df[col].unique()\n",
    "    unique = unique[~pd.isna(unique)]\n",
    "    val_dict[col] = {u: i for u, i in zip(unique, range(len(unique)))}\n",
    "    df[col].replace(val_dict[col], inplace=True)"
   ]
  },
  {
   "cell_type": "code",
   "execution_count": null,
   "metadata": {
    "collapsed": false,
    "pycharm": {
     "name": "#%%\n"
    }
   },
   "outputs": [],
   "source": [
    "val_dict"
   ]
  },
  {
   "cell_type": "markdown",
   "metadata": {
    "collapsed": false
   },
   "source": [
    "### Correlation matrix:"
   ]
  },
  {
   "cell_type": "code",
   "execution_count": null,
   "metadata": {
    "collapsed": false,
    "pycharm": {
     "name": "#%%\n"
    }
   },
   "outputs": [],
   "source": [
    "sns.heatmap(df.corr())"
   ]
  },
  {
   "cell_type": "code",
   "execution_count": null,
   "metadata": {
    "collapsed": false,
    "pycharm": {
     "name": "#%%\n"
    }
   },
   "outputs": [],
   "source": [
    "df.to_csv(\"processing/numeric.csv\", index=False)"
   ]
  },
  {
   "cell_type": "markdown",
   "metadata": {
    "collapsed": false
   },
   "source": [
    "### Filling Null Values:"
   ]
  },
  {
   "cell_type": "markdown",
   "metadata": {
    "collapsed": false
   },
   "source": [
    "For categorical columns, we will use the most common value (mode) as a filler, for int values, we can use the median, and for the rest, we can use the average value (mean)."
   ]
  },
  {
   "cell_type": "code",
   "execution_count": null,
   "metadata": {
    "collapsed": false,
    "pycharm": {
     "name": "#%%\n"
    }
   },
   "outputs": [],
   "source": [
    "df = pd.read_csv(\"processing/numeric.csv\")"
   ]
  },
  {
   "cell_type": "code",
   "execution_count": null,
   "metadata": {
    "collapsed": false,
    "pycharm": {
     "name": "#%%\n"
    }
   },
   "outputs": [],
   "source": [
    "mode = (\"Foundry\", \"Production\", \"Memory Type\", \"Slot Width\", \"Manufacturer\")\n",
    "median = (\"Process Size [nm]\", \"Year\", \"Die Size [mm²]\", \"Memory Bus [bit]\", \"TMUs\", \"ROPs\", \"TDP [W]\", \"Outputs\", \"Power Connectors\", \"DirectX\", \"OpenGL\", \"Cores\", \"Shading Units\", \"Shader Model\")\n",
    "mean = (\"Transistors [million]\", \"GPU Clock [MHz]\", \"Memory Clock [MHz]\", \"Memory Size [GB]\", \"Bandwidth [GB/s]\", \"Pixel Rate [GPixel/s]\", \"Texture Rate [GTexel/s]\", \"FP32 (float) performance [TFLOPS]\")\n",
    "\n",
    "for col in mode:\n",
    "    df[col].fillna(df[col].mode()[0], inplace=True)\n",
    "for col in median:\n",
    "    df[col].fillna(df[col].median(), inplace=True)\n",
    "for col in mean:\n",
    "    df[col].fillna(df[col].mean(), inplace=True)"
   ]
  },
  {
   "cell_type": "code",
   "execution_count": null,
   "metadata": {
    "collapsed": false,
    "pycharm": {
     "name": "#%%\n"
    }
   },
   "outputs": [],
   "source": [
    "df.to_csv(\"processing/ready.csv\", index=False)"
   ]
  }
 ],
 "metadata": {
  "kernelspec": {
   "display_name": "Python 3",
   "language": "python",
   "name": "python3"
  },
  "language_info": {
   "codemirror_mode": {
    "name": "ipython",
    "version": 2
   },
   "file_extension": ".py",
   "mimetype": "text/x-python",
   "name": "python",
   "nbconvert_exporter": "python",
   "pygments_lexer": "ipython2",
   "version": "2.7.6"
  }
 },
 "nbformat": 4,
 "nbformat_minor": 0
}
